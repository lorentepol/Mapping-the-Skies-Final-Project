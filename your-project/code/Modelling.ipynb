{
 "cells": [
  {
   "cell_type": "markdown",
   "metadata": {},
   "source": [
    "# Set libraries and import data"
   ]
  },
  {
   "cell_type": "code",
   "execution_count": 2,
   "metadata": {},
   "outputs": [],
   "source": [
    "# Set the graphs as fixed.\n",
    "%matplotlib inline\n",
    "# Import necessary libraries for initial analysis\n",
    "import pandas as pd\n",
    "import numpy as np\n",
    "import math\n",
    "import matplotlib.pyplot as plt\n",
    "import seaborn as sns\n",
    "import time"
   ]
  },
  {
   "cell_type": "code",
   "execution_count": 3,
   "metadata": {
    "scrolled": true
   },
   "outputs": [],
   "source": [
    "# Read Data from CSV\n",
    "sky_train = pd.read_csv(\"../data/sky_train.csv\", index_col = 0)\n",
    "sky_test = pd.read_csv(\"../data/sky_test.csv\", index_col = 0)"
   ]
  },
  {
   "cell_type": "code",
   "execution_count": 4,
   "metadata": {},
   "outputs": [],
   "source": [
    "# Reproduce the function from the EDA\n",
    "def clean_ci_redshift(df):\n",
    "    df_copy = df.copy()\n",
    "    df_copy['color_index_u_g'] = df_copy['u'] - df_copy['g']\n",
    "    df_copy['color_index_g_r'] = df_copy['g'] - df_copy['r']\n",
    "    df_copy['color_index_r_i'] = df_copy['r'] - df_copy['i']\n",
    "    df_copy['color_index_i_z'] = df_copy['i'] - df_copy['z']\n",
    "    df_copy['redshift_log'] = np.log((df_copy['redshift']+0.006)/0.006)\n",
    "    df_copy = df_copy.drop(['u','g','r','i','z','redshift'], axis = 1)\n",
    "    return df_copy"
   ]
  },
  {
   "cell_type": "markdown",
   "metadata": {},
   "source": [
    "We will use this transformation for now to preprocess the training data."
   ]
  },
  {
   "cell_type": "markdown",
   "metadata": {},
   "source": [
    "# Data preprocessing"
   ]
  },
  {
   "cell_type": "code",
   "execution_count": 5,
   "metadata": {},
   "outputs": [],
   "source": [
    "from sklearn.preprocessing import FunctionTransformer\n",
    "from sklearn.preprocessing import StandardScaler\n",
    "from sklearn.pipeline import Pipeline\n",
    "\n",
    "# custom function to pipeline Transformer\n",
    "ci_redshift = FunctionTransformer(clean_ci_redshift)\n",
    "\n",
    "# construction of preprocessing pipeline\n",
    "preprocessing = Pipeline([('ci_redshift', ci_redshift), ('scaling', StandardScaler())])\n"
   ]
  },
  {
   "cell_type": "code",
   "execution_count": 6,
   "metadata": {},
   "outputs": [],
   "source": [
    "# Final preprocessing of the Train Set\n",
    "X = preprocessing.fit_transform(sky_train.drop('class', axis=1))\n",
    "y = sky_train['class']"
   ]
  },
  {
   "cell_type": "markdown",
   "metadata": {},
   "source": [
    "# Initial exploration models"
   ]
  },
  {
   "cell_type": "code",
   "execution_count": 7,
   "metadata": {},
   "outputs": [],
   "source": [
    "# Import necessary features\n",
    "from sklearn.model_selection import GridSearchCV\n",
    "from sklearn.model_selection import cross_val_score\n",
    "from sklearn.model_selection import cross_validate\n",
    "\n",
    "# simple models\n",
    "from sklearn.linear_model import LogisticRegression\n",
    "from sklearn.linear_model import SGDClassifier\n",
    "from sklearn.neighbors import KNeighborsClassifier\n",
    "from sklearn.naive_bayes import GaussianNB\n",
    "from sklearn.tree import DecisionTreeClassifier\n",
    "\n",
    "# ensemble models\n",
    "from sklearn.ensemble import AdaBoostClassifier\n",
    "from sklearn.ensemble import BaggingClassifier\n",
    "from sklearn.ensemble import ExtraTreesClassifier\n",
    "from sklearn.ensemble import GradientBoostingClassifier\n",
    "from sklearn.ensemble import RandomForestClassifier"
   ]
  },
  {
   "cell_type": "code",
   "execution_count": 8,
   "metadata": {},
   "outputs": [],
   "source": [
    "# initialize all models\n",
    "logistic_regression = LogisticRegression()\n",
    "stoc_grad_desc = SGDClassifier()\n",
    "k_near_neigh = KNeighborsClassifier()\n",
    "naive_bayes = GaussianNB()\n",
    "decision_tree = DecisionTreeClassifier()\n",
    "ada_boost = AdaBoostClassifier()\n",
    "bagging = BaggingClassifier()\n",
    "extra_trees = ExtraTreesClassifier()\n",
    "gradient_boost = GradientBoostingClassifier()\n",
    "random_forest = RandomForestClassifier()\n",
    "\n",
    "models = [logistic_regression,stoc_grad_desc, k_near_neigh, naive_bayes,\n",
    "          decision_tree, ada_boost, bagging, extra_trees, gradient_boost, random_forest]\n",
    "names_models = ['Logistic Regression', 'Stochastic Gradient Descent', 'K-Nearest Neighbors', \n",
    "                'Naive-Bayes', 'Decision Tree', 'ADA Boost', 'Bagging Classifier', 'Extra Trees', 'Gradient Boost', \n",
    "                'Random Forest']"
   ]
  },
  {
   "cell_type": "code",
   "execution_count": 37,
   "metadata": {
    "scrolled": false
   },
   "outputs": [
    {
     "name": "stdout",
     "output_type": "stream",
     "text": [
      "Finished iterating Logistic Regression in: 64 seconds\n",
      "Finished iterating Stochastic Gradient Descent in: 19 seconds\n",
      "Finished iterating K-Nearest Neighbors in: 89 seconds\n",
      "Finished iterating Naive-Bayes in: 15 seconds\n",
      "Finished iterating Decision Tree in: 46 seconds\n",
      "Finished iterating ADA Boost in: 303 seconds\n",
      "Finished iterating Bagging Classifier in: 194 seconds\n",
      "Finished iterating Extra Trees in: 215 seconds\n",
      "Finished iterating Gradient Boost in: 1570 seconds\n",
      "Finished iterating Random Forest in: 800 seconds\n"
     ]
    }
   ],
   "source": [
    "# create an empty dataframe\n",
    "all_models_results = pd.DataFrame(columns = ['test_accuracy', 'test_precision_macro', 'test_recall_macro', \n",
    "                                             'test_f1_macro', 'test_roc_auc_ovo', 'model', 'time_to_train_sec'])\n",
    "\n",
    "# loop that cross_validates all above models for several metrics\n",
    "for name, model in zip(names_models, models):\n",
    "    start = time.time()\n",
    "    if name in ['Stochastic Gradient Descent']:\n",
    "         results = cross_validate(model, X, y, scoring = ('accuracy', 'precision_macro', \n",
    "                                                     'recall_macro', 'f1_macro')) # SGD computes an error when calculating its AUC\n",
    "    else:\n",
    "        results = cross_validate(model, X, y, scoring = ('accuracy', 'precision_macro', \n",
    "                                                     'recall_macro', 'f1_macro', 'roc_auc_ovo'))\n",
    "    for key in ['fit_time','score_time']:\n",
    "        del results[key]\n",
    "    for key in results.keys():\n",
    "        results[key] = results[key].mean()\n",
    "    results_model = pd.DataFrame(results, index = range(1))\n",
    "    results_model['model'] = name\n",
    "    all_models_results = pd.concat([all_models_results, results_model], ignore_index=True)\n",
    "    elapsed_time = time.time()-start\n",
    "    \n",
    "    print(\"Finished iterating {} in: {} seconds\".format(name,str(int(elapsed_time))))"
   ]
  },
  {
   "cell_type": "code",
   "execution_count": 74,
   "metadata": {},
   "outputs": [],
   "source": [
    "# Sort dataframe, reorder columns, add seconds to train and save to CSV\n",
    "all_models_results = all_models_results.sort_values('test_accuracy', ascending=False)\n",
    "all_models_results = all_models_results[['model', 'test_accuracy', 'test_precision_macro', 'test_recall_macro',\n",
    "       'test_f1_macro', 'test_roc_auc_ovo']]\n",
    "all_models_results = all_models_results.reset_index(drop=True)\n",
    "all_models_results['time_to_train_sec'] = [800,194,1570,215,46,89,64,15,19,303]\n",
    "all_models_results.to_csv('../data/initial_model_accuracy.csv')"
   ]
  },
  {
   "cell_type": "code",
   "execution_count": 75,
   "metadata": {},
   "outputs": [
    {
     "data": {
      "text/html": [
       "<div>\n",
       "<style scoped>\n",
       "    .dataframe tbody tr th:only-of-type {\n",
       "        vertical-align: middle;\n",
       "    }\n",
       "\n",
       "    .dataframe tbody tr th {\n",
       "        vertical-align: top;\n",
       "    }\n",
       "\n",
       "    .dataframe thead th {\n",
       "        text-align: right;\n",
       "    }\n",
       "</style>\n",
       "<table border=\"1\" class=\"dataframe\">\n",
       "  <thead>\n",
       "    <tr style=\"text-align: right;\">\n",
       "      <th></th>\n",
       "      <th>model</th>\n",
       "      <th>test_accuracy</th>\n",
       "      <th>test_precision_macro</th>\n",
       "      <th>test_recall_macro</th>\n",
       "      <th>test_f1_macro</th>\n",
       "      <th>test_roc_auc_ovo</th>\n",
       "      <th>time_to_train_sec</th>\n",
       "    </tr>\n",
       "  </thead>\n",
       "  <tbody>\n",
       "    <tr>\n",
       "      <th>0</th>\n",
       "      <td>Random Forest</td>\n",
       "      <td>0.994233</td>\n",
       "      <td>0.992957</td>\n",
       "      <td>0.987411</td>\n",
       "      <td>0.990144</td>\n",
       "      <td>0.998152</td>\n",
       "      <td>800</td>\n",
       "    </tr>\n",
       "    <tr>\n",
       "      <th>1</th>\n",
       "      <td>Bagging Classifier</td>\n",
       "      <td>0.993820</td>\n",
       "      <td>0.992495</td>\n",
       "      <td>0.986508</td>\n",
       "      <td>0.989455</td>\n",
       "      <td>0.995773</td>\n",
       "      <td>194</td>\n",
       "    </tr>\n",
       "    <tr>\n",
       "      <th>2</th>\n",
       "      <td>Gradient Boost</td>\n",
       "      <td>0.993226</td>\n",
       "      <td>0.991415</td>\n",
       "      <td>0.985560</td>\n",
       "      <td>0.988444</td>\n",
       "      <td>0.998727</td>\n",
       "      <td>1570</td>\n",
       "    </tr>\n",
       "    <tr>\n",
       "      <th>3</th>\n",
       "      <td>Extra Trees</td>\n",
       "      <td>0.992800</td>\n",
       "      <td>0.991925</td>\n",
       "      <td>0.986372</td>\n",
       "      <td>0.989101</td>\n",
       "      <td>0.998296</td>\n",
       "      <td>215</td>\n",
       "    </tr>\n",
       "    <tr>\n",
       "      <th>4</th>\n",
       "      <td>Decision Tree</td>\n",
       "      <td>0.990441</td>\n",
       "      <td>0.983366</td>\n",
       "      <td>0.984097</td>\n",
       "      <td>0.983730</td>\n",
       "      <td>0.988073</td>\n",
       "      <td>46</td>\n",
       "    </tr>\n",
       "    <tr>\n",
       "      <th>5</th>\n",
       "      <td>K-Nearest Neighbors</td>\n",
       "      <td>0.990157</td>\n",
       "      <td>0.988613</td>\n",
       "      <td>0.984438</td>\n",
       "      <td>0.986489</td>\n",
       "      <td>0.993772</td>\n",
       "      <td>89</td>\n",
       "    </tr>\n",
       "    <tr>\n",
       "      <th>6</th>\n",
       "      <td>Logistic Regression</td>\n",
       "      <td>0.987420</td>\n",
       "      <td>0.985430</td>\n",
       "      <td>0.977905</td>\n",
       "      <td>0.981564</td>\n",
       "      <td>0.995633</td>\n",
       "      <td>64</td>\n",
       "    </tr>\n",
       "    <tr>\n",
       "      <th>7</th>\n",
       "      <td>Naive-Bayes</td>\n",
       "      <td>0.983788</td>\n",
       "      <td>0.977990</td>\n",
       "      <td>0.971538</td>\n",
       "      <td>0.974685</td>\n",
       "      <td>0.993138</td>\n",
       "      <td>15</td>\n",
       "    </tr>\n",
       "    <tr>\n",
       "      <th>8</th>\n",
       "      <td>Stochastic Gradient Descent</td>\n",
       "      <td>0.972051</td>\n",
       "      <td>0.971946</td>\n",
       "      <td>0.960175</td>\n",
       "      <td>0.965880</td>\n",
       "      <td>NaN</td>\n",
       "      <td>19</td>\n",
       "    </tr>\n",
       "    <tr>\n",
       "      <th>9</th>\n",
       "      <td>ADA Boost</td>\n",
       "      <td>0.885648</td>\n",
       "      <td>0.797394</td>\n",
       "      <td>0.663284</td>\n",
       "      <td>0.637844</td>\n",
       "      <td>0.904660</td>\n",
       "      <td>303</td>\n",
       "    </tr>\n",
       "  </tbody>\n",
       "</table>\n",
       "</div>"
      ],
      "text/plain": [
       "                         model  test_accuracy  test_precision_macro  \\\n",
       "0                Random Forest       0.994233              0.992957   \n",
       "1           Bagging Classifier       0.993820              0.992495   \n",
       "2               Gradient Boost       0.993226              0.991415   \n",
       "3                  Extra Trees       0.992800              0.991925   \n",
       "4                Decision Tree       0.990441              0.983366   \n",
       "5          K-Nearest Neighbors       0.990157              0.988613   \n",
       "6          Logistic Regression       0.987420              0.985430   \n",
       "7                  Naive-Bayes       0.983788              0.977990   \n",
       "8  Stochastic Gradient Descent       0.972051              0.971946   \n",
       "9                    ADA Boost       0.885648              0.797394   \n",
       "\n",
       "   test_recall_macro  test_f1_macro  test_roc_auc_ovo  time_to_train_sec  \n",
       "0           0.987411       0.990144          0.998152                800  \n",
       "1           0.986508       0.989455          0.995773                194  \n",
       "2           0.985560       0.988444          0.998727               1570  \n",
       "3           0.986372       0.989101          0.998296                215  \n",
       "4           0.984097       0.983730          0.988073                 46  \n",
       "5           0.984438       0.986489          0.993772                 89  \n",
       "6           0.977905       0.981564          0.995633                 64  \n",
       "7           0.971538       0.974685          0.993138                 15  \n",
       "8           0.960175       0.965880               NaN                 19  \n",
       "9           0.663284       0.637844          0.904660                303  "
      ]
     },
     "execution_count": 75,
     "metadata": {},
     "output_type": "execute_result"
    }
   ],
   "source": [
    "all_models_results"
   ]
  },
  {
   "cell_type": "markdown",
   "metadata": {},
   "source": [
    "## Bagging Classification"
   ]
  },
  {
   "cell_type": "code",
   "execution_count": 10,
   "metadata": {},
   "outputs": [
    {
     "name": "stdout",
     "output_type": "stream",
     "text": [
      "Finished iterating in: 4109 seconds\n",
      "0.989878755499328 {'max_features': 0.95, 'n_estimators': 100}\n"
     ]
    }
   ],
   "source": [
    "#specify the parameters to be tested\n",
    "n_est = [10,20,50,100]\n",
    "max_features_opt = [0.93, 0.95, 0.97]\n",
    "param_grid = dict(n_estimators = n_est, max_features=max_features_opt)\n",
    "\n",
    "#perform the GridSearchCV\n",
    "start = time.time()\n",
    "bag_grid = GridSearchCV(bagging, param_grid, cv = 5, scoring='f1_macro', n_jobs=-1).fit(X, y)\n",
    "elapsed_time = time.time()-start\n",
    "print(\"Finished iterating in: {} seconds\".format(str(int(elapsed_time))))\n",
    "print(bag_grid.best_score_, bag_grid.best_params_)"
   ]
  },
  {
   "cell_type": "markdown",
   "metadata": {},
   "source": [
    "## Random Forest"
   ]
  },
  {
   "cell_type": "code",
   "execution_count": 9,
   "metadata": {},
   "outputs": [
    {
     "name": "stdout",
     "output_type": "stream",
     "text": [
      "Finished iterating in: 3134 seconds\n",
      "0.9900964588772911 {'max_depth': 25, 'n_estimators': 100}\n"
     ]
    }
   ],
   "source": [
    "#specify the parameters to be tested\n",
    "n_est = [10, 50, 100, 200]\n",
    "max_depth_opt = [5, 10, 25, 50]\n",
    "param_grid = dict(n_estimators = n_est, max_depth=max_depth_opt)\n",
    "\n",
    "\n",
    "#perform the GridSearchCV\n",
    "start = time.time()\n",
    "rd_grid = GridSearchCV(random_forest, param_grid, cv = 5, scoring='f1_macro', n_jobs=-1).fit(X, y)\n",
    "elapsed_time = time.time()-start\n",
    "print(\"Finished iterating in: {} seconds\".format(str(int(elapsed_time))))\n",
    "print(rd_grid.best_score_, rd_grid.best_params_)"
   ]
  },
  {
   "cell_type": "markdown",
   "metadata": {},
   "source": [
    "## K-Near Neighbors"
   ]
  },
  {
   "cell_type": "code",
   "execution_count": 8,
   "metadata": {},
   "outputs": [
    {
     "name": "stdout",
     "output_type": "stream",
     "text": [
      "Finished iterating in: 362 seconds\n",
      "0.9858467828525367 {'n_neighbors': 5, 'weights': 'distance'}\n"
     ]
    }
   ],
   "source": [
    "#specify the parameters to be tested\n",
    "n_neighbors=[5, 10, 50, 100]\n",
    "weights = ['uniform', 'distance']\n",
    "param_grid = dict(n_neighbors = n_neighbors, weights=weights)\n",
    "\n",
    "\n",
    "#perform the GridSearchCV\n",
    "start = time.time()\n",
    "k_grid = GridSearchCV(k_near_neigh, param_grid, cv = 5, scoring='f1_macro', n_jobs=-1).fit(X, y)\n",
    "elapsed_time = time.time()-start\n",
    "print(\"Finished iterating in: {} seconds\".format(str(int(elapsed_time))))\n",
    "print(k_grid.best_score_, k_grid.best_params_)"
   ]
  },
  {
   "cell_type": "markdown",
   "metadata": {},
   "source": [
    "# Random Forest with Test Set"
   ]
  },
  {
   "cell_type": "code",
   "execution_count": 9,
   "metadata": {},
   "outputs": [
    {
     "name": "stdout",
     "output_type": "stream",
     "text": [
      "Finished training in: 389 seconds\n"
     ]
    }
   ],
   "source": [
    "# final train with all train set for the Random forest Estimator\n",
    "start = time.time()\n",
    "rd_forest = RandomForestClassifier(n_estimators = 100, max_depth = 25).fit(X,y)\n",
    "elapsed_time = time.time()-start\n",
    "print(\"Finished training in: {} seconds\".format(str(int(elapsed_time))))"
   ]
  },
  {
   "cell_type": "code",
   "execution_count": null,
   "metadata": {},
   "outputs": [],
   "source": [
    "# Final preprocessing of the Test Set\n",
    "X_test = preprocessing.transform(sky_test.drop('class', axis=1))\n",
    "y_test = sky_test['class']"
   ]
  },
  {
   "cell_type": "code",
   "execution_count": null,
   "metadata": {},
   "outputs": [],
   "source": [
    "\n",
    "# Import necessary metrics and functions to better know the test set\n",
    "from sklearn.metrics import confusion_matrix\n",
    "from sklearn.metrics import classification_report\n",
    "from sklearn.metrics import plot_confusion_matrix"
   ]
  },
  {
   "cell_type": "code",
   "execution_count": 17,
   "metadata": {},
   "outputs": [
    {
     "name": "stdout",
     "output_type": "stream",
     "text": [
      "[[9.99716312e-01 2.83687943e-04 0.00000000e+00]\n",
      " [1.47846978e-03 9.95749399e-01 2.77213084e-03]\n",
      " [0.00000000e+00 2.72556391e-02 9.72744361e-01]]\n",
      "              precision    recall  f1-score   support\n",
      "\n",
      "        STAR       1.00      1.00      1.00      3525\n",
      "      GALAXY       0.99      1.00      1.00      5411\n",
      "         QSO       0.99      0.97      0.98      1064\n",
      "\n",
      "    accuracy                           0.99     10000\n",
      "   macro avg       0.99      0.99      0.99     10000\n",
      "weighted avg       0.99      0.99      0.99     10000\n",
      "\n",
      "('Confusion matrix, without normalization', None)\n",
      "('Normalized confusion matrix', 'true')\n"
     ]
    },
    {
     "data": {
      "image/png": "[encoded data removed]",
      "text/plain": [
       "<Figure size 2160x1080 with 4 Axes>"
      ]
     },
     "metadata": {
      "needs_background": "light"
     },
     "output_type": "display_data"
    }
   ],
   "source": [
    "# Prediction of the model from test set\n",
    "y_pred = rd_forest.predict(X_test)\n",
    "\n",
    "print(confusion_matrix(y_test, y_pred, labels=[\"STAR\", \"GALAXY\", \"QSO\"], normalize = 'true'))\n",
    "print(classification_report(y_test, y_pred, labels=[\"STAR\", \"GALAXY\", \"QSO\"]))\n",
    "\n",
    "# Plot non-normalized confusion matrix\n",
    "titles_options = [(\"Confusion matrix, without normalization\", None),\n",
    "                  (\"Normalized confusion matrix\", 'true')]\n",
    "fig, ax =plt.subplots(2,1,figsize=(30,15))\n",
    "\n",
    "for i in range(2):\n",
    "    plot_confusion_matrix(rd_forest,X_test, y_test,\n",
    "                                 cmap=plt.cm.Blues,\n",
    "                                 normalize=titles_options[i][1], ax = ax[i])\n",
    "    ax[i].set_title(titles_options[i][0])\n",
    "    \n",
    "\n",
    "    print(titles_options[i])\n",
    "\n",
    "plt.show()"
   ]
  },
  {
   "cell_type": "code",
   "execution_count": 10,
   "metadata": {},
   "outputs": [
    {
     "data": {
      "text/plain": [
       "array([0.13519856, 0.04079417, 0.19986431, 0.09951262, 0.52463034])"
      ]
     },
     "execution_count": 10,
     "metadata": {},
     "output_type": "execute_result"
    }
   ],
   "source": [
    "rd_forest.feature_importances_"
   ]
  },
  {
   "cell_type": "markdown",
   "metadata": {},
   "source": [
    "# Using rebalanced train set with Random Forest"
   ]
  },
  {
   "cell_type": "code",
   "execution_count": 20,
   "metadata": {},
   "outputs": [],
   "source": [
    "sky_tr_st = sky_train[sky_train['class'] == 'STAR']\n",
    "sky_tr_gl = sky_train[sky_train['class'] == 'GALAXY']\n",
    "sky_tr_qso = sky_train[sky_train['class'] == 'QSO']"
   ]
  },
  {
   "cell_type": "code",
   "execution_count": 21,
   "metadata": {},
   "outputs": [
    {
     "data": {
      "text/plain": [
       "GALAXY    52155\n",
       "QSO       52155\n",
       "STAR      52155\n",
       "Name: class, dtype: int64"
      ]
     },
     "execution_count": 21,
     "metadata": {},
     "output_type": "execute_result"
    }
   ],
   "source": [
    "# Resample data to know if model performs better on balanced data classes\n",
    "from sklearn.utils import resample\n",
    "\n",
    "sky_tr_st = resample(sky_tr_st, n_samples = sky_tr_qso.shape[0], random_state = 123)\n",
    "sky_tr_gl = resample(sky_tr_gl, n_samples = sky_tr_qso.shape[0], random_state = 123)\n",
    "\n",
    "sky_balanced = pd.concat([sky_tr_st, sky_tr_gl, sky_tr_qso], axis = 0)\n",
    "sky_balanced['class'].value_counts()"
   ]
  },
  {
   "cell_type": "code",
   "execution_count": 22,
   "metadata": {},
   "outputs": [],
   "source": [
    "# Final preprocessing of the Balanced Train Set\n",
    "X_bal = preprocessing.fit_transform(sky_balanced.drop('class', axis=1))\n",
    "y_bal = sky_balanced['class']"
   ]
  },
  {
   "cell_type": "code",
   "execution_count": 23,
   "metadata": {},
   "outputs": [
    {
     "name": "stdout",
     "output_type": "stream",
     "text": [
      "Finished training in: 81 seconds\n"
     ]
    }
   ],
   "source": [
    "# Training of the balanced set\n",
    "start = time.time()\n",
    "rd_forest_bal = RandomForestClassifier(n_estimators = 100, max_depth = 25).fit(X_bal,y_bal)\n",
    "elapsed_time = time.time()-start\n",
    "print(\"Finished training in: {} seconds\".format(str(int(elapsed_time))))"
   ]
  },
  {
   "cell_type": "code",
   "execution_count": 24,
   "metadata": {
    "scrolled": false
   },
   "outputs": [
    {
     "name": "stdout",
     "output_type": "stream",
     "text": [
      "[[0.97361702 0.0235461  0.00283688]\n",
      " [0.00813158 0.75549806 0.23637036]\n",
      " [0.         0.01221805 0.98778195]]\n",
      "              precision    recall  f1-score   support\n",
      "\n",
      "        STAR       0.99      0.97      0.98      3525\n",
      "      GALAXY       0.98      0.76      0.85      5411\n",
      "         QSO       0.45      0.99      0.62      1064\n",
      "\n",
      "    accuracy                           0.86     10000\n",
      "   macro avg       0.80      0.91      0.82     10000\n",
      "weighted avg       0.92      0.86      0.87     10000\n",
      "\n",
      "('Confusion matrix, without normalization', None)\n",
      "('Normalized confusion matrix', 'true')\n"
     ]
    },
    {
     "data": {
      "image/png": "[encoded data removed]",
      "text/plain": [
       "<Figure size 2160x1080 with 4 Axes>"
      ]
     },
     "metadata": {
      "needs_background": "light"
     },
     "output_type": "display_data"
    }
   ],
   "source": [
    "# Test Set prediction of the balanced model\n",
    "\n",
    "y_pred_bal = rd_forest_bal.predict(X_test)\n",
    "\n",
    "print(confusion_matrix(y_test, y_pred_bal, labels=[\"STAR\", \"GALAXY\", \"QSO\"], normalize = 'true'))\n",
    "print(classification_report(y_test, y_pred_bal, labels=[\"STAR\", \"GALAXY\", \"QSO\"]))\n",
    "\n",
    "# Plot non-normalized confusion matrix\n",
    "titles_options = [(\"Confusion matrix, without normalization\", None),\n",
    "                  (\"Normalized confusion matrix\", 'true')]\n",
    "fig, ax =plt.subplots(2,1,figsize=(30,15))\n",
    "\n",
    "for i in range(2):\n",
    "    plot_confusion_matrix(rd_forest_bal,X_test, y_test,\n",
    "                                 cmap=plt.cm.Blues,\n",
    "                                 normalize=titles_options[i][1], ax = ax[i])\n",
    "    ax[i].set_title(titles_options[i][0])\n",
    "    \n",
    "\n",
    "    print(titles_options[i])\n",
    "\n",
    "plt.show()"
   ]
  },
  {
   "cell_type": "markdown",
   "metadata": {},
   "source": [
    "It is actually worse than training on the unbalanced dataset"
   ]
  },
  {
   "cell_type": "markdown",
   "metadata": {},
   "source": [
    "# Unsupervised outlier detection"
   ]
  },
  {
   "cell_type": "markdown",
   "metadata": {},
   "source": [
    "## Preprocessing all the dataset (no train/test)"
   ]
  },
  {
   "cell_type": "code",
   "execution_count": 11,
   "metadata": {},
   "outputs": [
    {
     "data": {
      "text/plain": [
       "Index(['u', 'g', 'r', 'i', 'z', 'redshift', 'class'], dtype='object')"
      ]
     },
     "execution_count": 11,
     "metadata": {},
     "output_type": "execute_result"
    }
   ],
   "source": [
    "sky_all = pd.concat([sky_train, sky_test], axis = 0)\n",
    "sky_all.head()\n",
    "sky_all.columns"
   ]
  },
  {
   "cell_type": "code",
   "execution_count": 13,
   "metadata": {},
   "outputs": [],
   "source": [
    "# custom function to pipeline Transformer\n",
    "from sklearn.compose import ColumnTransformer\n",
    "from sklearn.preprocessing import OneHotEncoder\n",
    "# construction of preprocessing pipeline\n",
    "\n",
    "new_transform = ColumnTransformer([('ci_redshift', ci_redshift, ['u', 'g', 'r', 'i', 'z', 'redshift']), \n",
    "                                   ('one_hot', OneHotEncoder(), ['class'])])\n",
    "new_pipeline = Pipeline([('new_transform', new_transform), ('scaling', StandardScaler())])\n",
    "\n",
    "sky_all_prep = new_pipeline.fit_transform(sky_all)"
   ]
  },
  {
   "cell_type": "markdown",
   "metadata": {},
   "source": [
    "## Creating the model"
   ]
  },
  {
   "cell_type": "code",
   "execution_count": 34,
   "metadata": {
    "scrolled": true
   },
   "outputs": [],
   "source": [
    "from sklearn.ensemble import IsolationForest\n",
    "isolation = IsolationForest(contamination = 0.0001).fit(sky_all_prep)"
   ]
  },
  {
   "cell_type": "code",
   "execution_count": 35,
   "metadata": {},
   "outputs": [],
   "source": [
    "pred = isolation.predict(sky_all_prep)"
   ]
  },
  {
   "cell_type": "code",
   "execution_count": 36,
   "metadata": {},
   "outputs": [
    {
     "data": {
      "text/plain": [
       "(50, 8)"
      ]
     },
     "execution_count": 36,
     "metadata": {},
     "output_type": "execute_result"
    }
   ],
   "source": [
    "sky_all_pred = pd.concat([sky_all.reset_index(drop=True), pd.Series(pred, name='anomaly')], axis = 1)\n",
    "sky_all_pred[sky_all_pred['anomaly'] == -1].shape"
   ]
  },
  {
   "cell_type": "code",
   "execution_count": 37,
   "metadata": {},
   "outputs": [
    {
     "data": {
      "text/plain": [
       "GALAXY    26\n",
       "QSO       20\n",
       "STAR       4\n",
       "Name: class, dtype: int64"
      ]
     },
     "execution_count": 37,
     "metadata": {},
     "output_type": "execute_result"
    }
   ],
   "source": [
    "sky_all_pred.loc[sky_all_pred['anomaly']==-1,'class'].value_counts()"
   ]
  }
 ],
 "metadata": {
  "kernelspec": {
   "display_name": "Python 3",
   "language": "python",
   "name": "python3"
  },
  "language_info": {
   "codemirror_mode": {
    "name": "ipython",
    "version": 3
   },
   "file_extension": ".py",
   "mimetype": "text/x-python",
   "name": "python",
   "nbconvert_exporter": "python",
   "pygments_lexer": "ipython3",
   "version": "3.7.6"
  }
 },
 "nbformat": 4,
 "nbformat_minor": 4
}
