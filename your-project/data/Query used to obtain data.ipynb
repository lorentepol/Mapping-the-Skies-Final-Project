{
 "cells": [
  {
   "cell_type": "markdown",
   "metadata": {},
   "source": [
    "http://skyserver.sdss.org/dr16/en/tools/search/sql.aspx"
   ]
  },
  {
   "cell_type": "markdown",
   "metadata": {},
   "source": [
    "-- This query does a table JOIN between the imaging (PhotoObj) and spectra\n",
    "-- (SpecObj) tables and includes the necessary columns in the SELECT to upload\n",
    "-- the results to the SAS (Science Archive Server) for FITS file retrieval.\n",
    "SELECT TOP 500000\n",
    "   p.objid,p.ra,p.dec,p.cx,p.cy,p.cz,p.u,p.g,p.r,p.i,p.z,\n",
    "   p.run, p.rerun, p.camcol, p.field,\n",
    "   s.specobjid, s.class, s.z as redshift,\n",
    "   s.plate, s.mjd, s.fiberid\n",
    "FROM PhotoObj AS p\n",
    "   JOIN SpecObj AS s ON s.bestobjid = p.objid\n",
    "WHERE \n",
    "   p.u BETWEEN 0 AND 19.6\n",
    "   AND g BETWEEN 0 AND 20"
   ]
  }
 ],
 "metadata": {
  "kernelspec": {
   "display_name": "Python 3",
   "language": "python",
   "name": "python3"
  },
  "language_info": {
   "codemirror_mode": {
    "name": "ipython",
    "version": 3
   },
   "file_extension": ".py",
   "mimetype": "text/x-python",
   "name": "python",
   "nbconvert_exporter": "python",
   "pygments_lexer": "ipython3",
   "version": "3.7.6"
  }
 },
 "nbformat": 4,
 "nbformat_minor": 4
}
